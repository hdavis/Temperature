{
 "cells": [
  {
   "cell_type": "markdown",
   "metadata": {},
   "source": [
    "## Python script to collect the last 30 days of temperature data from a web API for select cities in the US"
   ]
  },
  {
   "cell_type": "markdown",
   "metadata": {},
   "source": [
    "The goal of the following code is to collect observed weather data from The Dark Sky Forecast API (https://developer.forecast.io/docs/v2#time_cal), extract the maximum daily temperature for select cities, store the extracted data in a SQLite database, perform summary calculations, visualize the results and write them to a .csv file."
   ]
  },
  {
   "cell_type": "markdown",
   "metadata": {},
   "source": [
    "Start by importing the necessary Python libraries."
   ]
  },
  {
   "cell_type": "code",
   "execution_count": 1,
   "metadata": {
    "collapsed": true,
    "scrolled": true
   },
   "outputs": [],
   "source": [
    "%matplotlib inline\n",
    "import datetime\n",
    "import requests\n",
    "import json\n",
    "import sqlite3 as lite\n",
    "import pandas as pd\n",
    "import seaborn as sns"
   ]
  },
  {
   "cell_type": "markdown",
   "metadata": {},
   "source": [
    "Create cities dictionary to include cities of interest and their locations."
   ]
  },
  {
   "cell_type": "code",
   "execution_count": 2,
   "metadata": {
    "collapsed": true,
    "scrolled": true
   },
   "outputs": [],
   "source": [
    "cities = {\"Atlanta\": '33.755960,-84.390304',\n",
    "          \"Austin\": '30.265327,-97.743788',\n",
    "          \"Boston\": '42.358056,-71.063611',\n",
    "          \"Denver\": '39.761850,-104.881105',\n",
    "          \"Los Angeles\": '34.050000,-118.250000',\n",
    "          \"Seattle\": '47.609722,-122.333056'\n",
    "          }"
   ]
  },
  {
   "cell_type": "markdown",
   "metadata": {},
   "source": [
    "Initialize a few key variables.  The start date is 30 days before now; \"num_days\" holds this 30-day value."
   ]
  },
  {
   "cell_type": "code",
   "execution_count": 3,
   "metadata": {
    "collapsed": true,
    "scrolled": true
   },
   "outputs": [],
   "source": [
    "num_days = 30\n",
    "start_date = datetime.datetime.now() - datetime.timedelta(days=num_days)\n",
    "APIKEY = \"2afe41b558da0181d1a9483c41f42df8\""
   ]
  },
  {
   "cell_type": "markdown",
   "metadata": {},
   "source": [
    "Create a connection object, \"con\", which is the connection to the SQLite database \"weather.db\". (If weather.db does not exist, SQLite3 will create it.)\n",
    "Once the connection object \"con\" has been created, use the .cursor method to create a cursor object, \"cur\", to manipulate tables in the \"weather.db\" database.\n",
    "If the \"temperature\" table exists in the \"weather.db\" database, drop it and create a new table to start fresh with an empty table."
   ]
  },
  {
   "cell_type": "code",
   "execution_count": 4,
   "metadata": {
    "collapsed": true,
    "scrolled": true
   },
   "outputs": [],
   "source": [
    "con = lite.connect('weather.db')\n",
    "with con:\n",
    "    cur = con.cursor()\n",
    "    cur.execute(\"DROP TABLE IF EXISTS temperature\")\n",
    "    cur.execute(\"CREATE TABLE temperature \\\n",
    "    (city text, tmax float, tmax_time integer)\")"
   ]
  },
  {
   "cell_type": "markdown",
   "metadata": {},
   "source": [
    "Next loop through all the cities in the \"cities\" dictionary, creating a properly formatted API request for that city for each day of data desired (30 days in this example).  Once the API request has been formatted, ping the API to get the data, select the data of interest (which is the maximum temperature for that day in this example) and store it in the \"weather.db\" database as well as a Pandas DataFrame, \"df\", to aid in future calculations.\n",
    "This process requires a loop within a loop.  The inner loop collects the data for a single city for each day of the period of interest, the past 30 days in this case.  The outer loop cycles through each of the cities. "
   ]
  },
  {
   "cell_type": "code",
   "execution_count": 5,
   "metadata": {
    "collapsed": false
   },
   "outputs": [],
   "source": [
    "for city_var, latLong in cities.iteritems():\n",
    "    \n",
    "    date = start_date     # initialize the date variable\n",
    "    \n",
    "    for i in range(0, num_days):  \n",
    "        date_str = (date.strftime('%Y') + '-' + date.strftime('%m') + '-' +\n",
    "                    date.strftime('%d') + 'T' + date.strftime('%H') + ':' +\n",
    "                    date.strftime('%M') + ':' + date.strftime('%S'))\n",
    "\n",
    "        url = ('https://api.forecast.io/forecast/' + APIKEY + '/' + latLong +\n",
    "               ',' + date_str)\n",
    "\n",
    "        r = requests.get(url)  # issue the request\n",
    "        response_dict = json.loads(r.text)\n",
    "\n",
    "        tmax_var = response_dict['daily']['data'][0]['temperatureMax']\n",
    "        tmax_time_var = response_dict['daily']['data'][0]['temperatureMaxTime']\n",
    "        \n",
    "        # convert time of max temperature from UNIX time to standard format\n",
    "        tmax_time_var_std = (datetime.datetime.fromtimestamp\n",
    "                             (int(tmax_time_var))\n",
    "                             .strftime('%Y-%m-%d %H:%M:%S'))\n",
    "\n",
    "        con = lite.connect('weather.db')\n",
    "        with con:\n",
    "            cur = con.cursor()\n",
    "            cur.execute(\"INSERT INTO temperature (city, tmax, tmax_time) \\\n",
    "            VALUES (?, ?, ?)\", (city_var, tmax_var, tmax_time_var_std))\n",
    "            cur.execute(\"SELECT * FROM temperature\")\n",
    "\n",
    "            # store all rows of data in the \"rows\" variable\n",
    "            rows = cur.fetchall()\n",
    "            \n",
    "            # get the column names from the cur.description attribute \n",
    "            # which are in the first position, the 0th spot.\n",
    "            cols = [desc[0] for desc in cur.description] \n",
    "            \n",
    "            df = pd.DataFrame(rows, columns=cols)\n",
    "\n",
    "        date = date + datetime.timedelta(days=1)"
   ]
  },
  {
   "cell_type": "markdown",
   "metadata": {},
   "source": [
    "Let's look at the first and last five rows of the data in the \"df\" DataFrame.  Each row is one day's worth of data; \"tmax\" is the maximum temperature for the day in degrees Fahrenheit; \"tmax_time\" is the date and time of the maximum temperature that day."
   ]
  },
  {
   "cell_type": "code",
   "execution_count": 6,
   "metadata": {
    "collapsed": false,
    "scrolled": true
   },
   "outputs": [
    {
     "data": {
      "text/html": [
       "<div>\n",
       "<table border=\"1\" class=\"dataframe\">\n",
       "  <thead>\n",
       "    <tr style=\"text-align: right;\">\n",
       "      <th></th>\n",
       "      <th>city</th>\n",
       "      <th>tmax</th>\n",
       "      <th>tmax_time</th>\n",
       "    </tr>\n",
       "  </thead>\n",
       "  <tbody>\n",
       "    <tr>\n",
       "      <th>0</th>\n",
       "      <td>Boston</td>\n",
       "      <td>85.10</td>\n",
       "      <td>2016-06-07 14:00:00</td>\n",
       "    </tr>\n",
       "    <tr>\n",
       "      <th>1</th>\n",
       "      <td>Boston</td>\n",
       "      <td>73.21</td>\n",
       "      <td>2016-06-08 12:00:00</td>\n",
       "    </tr>\n",
       "    <tr>\n",
       "      <th>2</th>\n",
       "      <td>Boston</td>\n",
       "      <td>66.70</td>\n",
       "      <td>2016-06-09 13:00:00</td>\n",
       "    </tr>\n",
       "    <tr>\n",
       "      <th>3</th>\n",
       "      <td>Boston</td>\n",
       "      <td>70.14</td>\n",
       "      <td>2016-06-10 16:00:00</td>\n",
       "    </tr>\n",
       "    <tr>\n",
       "      <th>4</th>\n",
       "      <td>Boston</td>\n",
       "      <td>67.71</td>\n",
       "      <td>2016-06-11 10:00:00</td>\n",
       "    </tr>\n",
       "  </tbody>\n",
       "</table>\n",
       "</div>"
      ],
      "text/plain": [
       "     city   tmax            tmax_time\n",
       "0  Boston  85.10  2016-06-07 14:00:00\n",
       "1  Boston  73.21  2016-06-08 12:00:00\n",
       "2  Boston  66.70  2016-06-09 13:00:00\n",
       "3  Boston  70.14  2016-06-10 16:00:00\n",
       "4  Boston  67.71  2016-06-11 10:00:00"
      ]
     },
     "execution_count": 6,
     "metadata": {},
     "output_type": "execute_result"
    }
   ],
   "source": [
    "df.head()"
   ]
  },
  {
   "cell_type": "code",
   "execution_count": 7,
   "metadata": {
    "collapsed": false,
    "scrolled": true
   },
   "outputs": [
    {
     "data": {
      "text/html": [
       "<div>\n",
       "<table border=\"1\" class=\"dataframe\">\n",
       "  <thead>\n",
       "    <tr style=\"text-align: right;\">\n",
       "      <th></th>\n",
       "      <th>city</th>\n",
       "      <th>tmax</th>\n",
       "      <th>tmax_time</th>\n",
       "    </tr>\n",
       "  </thead>\n",
       "  <tbody>\n",
       "    <tr>\n",
       "      <th>175</th>\n",
       "      <td>Austin</td>\n",
       "      <td>94.26</td>\n",
       "      <td>2016-07-02 15:00:00</td>\n",
       "    </tr>\n",
       "    <tr>\n",
       "      <th>176</th>\n",
       "      <td>Austin</td>\n",
       "      <td>95.80</td>\n",
       "      <td>2016-07-03 14:00:00</td>\n",
       "    </tr>\n",
       "    <tr>\n",
       "      <th>177</th>\n",
       "      <td>Austin</td>\n",
       "      <td>97.28</td>\n",
       "      <td>2016-07-04 13:00:00</td>\n",
       "    </tr>\n",
       "    <tr>\n",
       "      <th>178</th>\n",
       "      <td>Austin</td>\n",
       "      <td>96.47</td>\n",
       "      <td>2016-07-05 14:00:00</td>\n",
       "    </tr>\n",
       "    <tr>\n",
       "      <th>179</th>\n",
       "      <td>Austin</td>\n",
       "      <td>95.99</td>\n",
       "      <td>2016-07-06 14:00:00</td>\n",
       "    </tr>\n",
       "  </tbody>\n",
       "</table>\n",
       "</div>"
      ],
      "text/plain": [
       "       city   tmax            tmax_time\n",
       "175  Austin  94.26  2016-07-02 15:00:00\n",
       "176  Austin  95.80  2016-07-03 14:00:00\n",
       "177  Austin  97.28  2016-07-04 13:00:00\n",
       "178  Austin  96.47  2016-07-05 14:00:00\n",
       "179  Austin  95.99  2016-07-06 14:00:00"
      ]
     },
     "execution_count": 7,
     "metadata": {},
     "output_type": "execute_result"
    }
   ],
   "source": [
    "df.tail()"
   ]
  },
  {
   "cell_type": "markdown",
   "metadata": {},
   "source": [
    "Calculate summary statistics over the 30-day period and store in a new DataFrame, \"df_summary\"; separate the latitude and longitude into two columns instead of one, converting them from strings to floats; then write the DataFrame to a .csv file called \"summary.csv\"."
   ]
  },
  {
   "cell_type": "code",
   "execution_count": 8,
   "metadata": {
    "collapsed": true,
    "scrolled": true
   },
   "outputs": [],
   "source": [
    "df_summary = pd.DataFrame(columns=('city', 'long', 'lat', 'max_tmax',\n",
    "                                   'min_tmax', 'range_tmax', 'mean_tmax',\n",
    "                                   'sd_tmax'))\n",
    "\n",
    "df_summary['max_tmax'] = df.groupby('city')['tmax'].max()\n",
    "df_summary['min_tmax'] = df.groupby('city')['tmax'].min()\n",
    "df_summary['mean_tmax'] = df.groupby('city')['tmax'].mean()\n",
    "df_summary['sd_tmax'] = df.groupby('city')['tmax'].std()\n",
    "df_summary['range_tmax'] = df_summary['max_tmax'] - df_summary['min_tmax']\n",
    "df_summary['city'] = df_summary.index\n",
    "\n",
    "for k, v in cities.iteritems():\n",
    "    location = tuple(float(x) for x in v.split(','))\n",
    "    df_summary.set_value(k,'lat',location[0])\n",
    "    df_summary.set_value(k,'long',location[1])\n",
    "    \n",
    "df_summary.to_csv('summary.csv', index=False)"
   ]
  },
  {
   "cell_type": "markdown",
   "metadata": {},
   "source": [
    "Let's look at the \"df_summary\" DataFrame. Since there are only six cities, we can look at all of the rows, not just the first five."
   ]
  },
  {
   "cell_type": "code",
   "execution_count": 9,
   "metadata": {
    "collapsed": false,
    "scrolled": true
   },
   "outputs": [
    {
     "data": {
      "text/html": [
       "<div>\n",
       "<table border=\"1\" class=\"dataframe\">\n",
       "  <thead>\n",
       "    <tr style=\"text-align: right;\">\n",
       "      <th></th>\n",
       "      <th>city</th>\n",
       "      <th>long</th>\n",
       "      <th>lat</th>\n",
       "      <th>max_tmax</th>\n",
       "      <th>min_tmax</th>\n",
       "      <th>range_tmax</th>\n",
       "      <th>mean_tmax</th>\n",
       "      <th>sd_tmax</th>\n",
       "    </tr>\n",
       "    <tr>\n",
       "      <th>city</th>\n",
       "      <th></th>\n",
       "      <th></th>\n",
       "      <th></th>\n",
       "      <th></th>\n",
       "      <th></th>\n",
       "      <th></th>\n",
       "      <th></th>\n",
       "      <th></th>\n",
       "    </tr>\n",
       "  </thead>\n",
       "  <tbody>\n",
       "    <tr>\n",
       "      <th>Atlanta</th>\n",
       "      <td>Atlanta</td>\n",
       "      <td>-84.3903</td>\n",
       "      <td>33.756</td>\n",
       "      <td>97.33</td>\n",
       "      <td>80.02</td>\n",
       "      <td>17.31</td>\n",
       "      <td>90.414333</td>\n",
       "      <td>4.073621</td>\n",
       "    </tr>\n",
       "    <tr>\n",
       "      <th>Austin</th>\n",
       "      <td>Austin</td>\n",
       "      <td>-97.7438</td>\n",
       "      <td>30.2653</td>\n",
       "      <td>97.28</td>\n",
       "      <td>84.40</td>\n",
       "      <td>12.88</td>\n",
       "      <td>93.116000</td>\n",
       "      <td>2.512278</td>\n",
       "    </tr>\n",
       "    <tr>\n",
       "      <th>Boston</th>\n",
       "      <td>Boston</td>\n",
       "      <td>-71.0636</td>\n",
       "      <td>42.3581</td>\n",
       "      <td>88.96</td>\n",
       "      <td>66.70</td>\n",
       "      <td>22.26</td>\n",
       "      <td>77.679333</td>\n",
       "      <td>5.401550</td>\n",
       "    </tr>\n",
       "    <tr>\n",
       "      <th>Denver</th>\n",
       "      <td>Denver</td>\n",
       "      <td>-104.881</td>\n",
       "      <td>39.7619</td>\n",
       "      <td>96.47</td>\n",
       "      <td>72.37</td>\n",
       "      <td>24.10</td>\n",
       "      <td>84.813667</td>\n",
       "      <td>6.570845</td>\n",
       "    </tr>\n",
       "    <tr>\n",
       "      <th>Los Angeles</th>\n",
       "      <td>Los Angeles</td>\n",
       "      <td>-118.25</td>\n",
       "      <td>34.05</td>\n",
       "      <td>96.54</td>\n",
       "      <td>68.44</td>\n",
       "      <td>28.10</td>\n",
       "      <td>78.550667</td>\n",
       "      <td>6.939654</td>\n",
       "    </tr>\n",
       "    <tr>\n",
       "      <th>Seattle</th>\n",
       "      <td>Seattle</td>\n",
       "      <td>-122.333</td>\n",
       "      <td>47.6097</td>\n",
       "      <td>81.17</td>\n",
       "      <td>56.78</td>\n",
       "      <td>24.39</td>\n",
       "      <td>67.533333</td>\n",
       "      <td>5.285666</td>\n",
       "    </tr>\n",
       "  </tbody>\n",
       "</table>\n",
       "</div>"
      ],
      "text/plain": [
       "                    city     long      lat  max_tmax  min_tmax  range_tmax  \\\n",
       "city                                                                         \n",
       "Atlanta          Atlanta -84.3903   33.756     97.33     80.02       17.31   \n",
       "Austin            Austin -97.7438  30.2653     97.28     84.40       12.88   \n",
       "Boston            Boston -71.0636  42.3581     88.96     66.70       22.26   \n",
       "Denver            Denver -104.881  39.7619     96.47     72.37       24.10   \n",
       "Los Angeles  Los Angeles  -118.25    34.05     96.54     68.44       28.10   \n",
       "Seattle          Seattle -122.333  47.6097     81.17     56.78       24.39   \n",
       "\n",
       "             mean_tmax   sd_tmax  \n",
       "city                              \n",
       "Atlanta      90.414333  4.073621  \n",
       "Austin       93.116000  2.512278  \n",
       "Boston       77.679333  5.401550  \n",
       "Denver       84.813667  6.570845  \n",
       "Los Angeles  78.550667  6.939654  \n",
       "Seattle      67.533333  5.285666  "
      ]
     },
     "execution_count": 9,
     "metadata": {},
     "output_type": "execute_result"
    }
   ],
   "source": [
    "df_summary"
   ]
  },
  {
   "cell_type": "markdown",
   "metadata": {},
   "source": [
    "Create a box plot for each city using the seaborn library."
   ]
  },
  {
   "cell_type": "code",
   "execution_count": 10,
   "metadata": {
    "collapsed": false
   },
   "outputs": [
    {
     "data": {
      "image/png": "[encoded data removed]",
      "text/plain": [
       "<matplotlib.figure.Figure at 0x117a0a950>"
      ]
     },
     "metadata": {},
     "output_type": "display_data"
    }
   ],
   "source": [
    "sns.set_style(\"whitegrid\")\n",
    "ax = sns.boxplot(x=\"city\", y=\"tmax\", data=df.sort_values(by='city'))\n",
    "ax = sns.swarmplot(x=\"city\", y=\"tmax\", data=df.sort_values(by='city'),\n",
    "                   color=\".25\")"
   ]
  },
  {
   "cell_type": "markdown",
   "metadata": {},
   "source": [
    "If you have not run the code above yourself, it should show data from the 30 days between June 7, 2016 and July 6, 2016 inclusive.  \n",
    "\n",
    "For this time period, the data show that the maximum daily temperature for Austin has the smallest fluctuation changing only 12.88 degrees over the 30-days compared to Los Angeles, which has the largest range of 28.10 degrees F (this includes a couple of points shown as outliers in the lavender box plot for Los Angeles).  \n",
    "\n",
    "Austin also has the highest mean maximum temperature over the period, indicating that not only is the maximum temperature relatively consistent, but also it just plain hot there.\n",
    "\n",
    "Seattle has the lowest maximum daily temperatures of the six cities considered, which is not surprising given the generally cloudier and rainier climate of the Pacific Northwest."
   ]
  }
 ],
 "metadata": {
  "kernelspec": {
   "display_name": "Python 2",
   "language": "python",
   "name": "python2"
  },
  "language_info": {
   "codemirror_mode": {
    "name": "ipython",
    "version": 2
   },
   "file_extension": ".py",
   "mimetype": "text/x-python",
   "name": "python",
   "nbconvert_exporter": "python",
   "pygments_lexer": "ipython2",
   "version": "2.7.11"
  }
 },
 "nbformat": 4,
 "nbformat_minor": 0
}
