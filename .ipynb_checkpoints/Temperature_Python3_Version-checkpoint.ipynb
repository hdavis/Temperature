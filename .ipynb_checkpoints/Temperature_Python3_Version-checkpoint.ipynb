{
 "cells": [
  {
   "cell_type": "markdown",
   "metadata": {},
   "source": [
    "## Python script to collect the last 30 days of temperature data from a web API for select cities in the US - Python 3 Version"
   ]
  },
  {
   "cell_type": "markdown",
   "metadata": {},
   "source": [
    "The goal of the following code is to collect observed weather data from The Dark Sky Forecast API (https://developer.forecast.io/docs/v2#time_cal), extract the maximum daily temperatures for the last 30 days for select cities, store the extracted data in a SQLite database, perform summary calculations, visualize the results and write them to a .csv file."
   ]
  },
  {
   "cell_type": "markdown",
   "metadata": {},
   "source": [
    "This version uses Python 3.  dataframe.iteritems and dataframe.set_value have been replaced with dataframe.items and dataframe.at respectively since the former two have been deprecated in Python 3."
   ]
  },
  {
   "cell_type": "markdown",
   "metadata": {},
   "source": [
    "Start by importing the necessary Python libraries."
   ]
  },
  {
   "cell_type": "code",
   "execution_count": 1,
   "metadata": {
    "scrolled": true
   },
   "outputs": [],
   "source": [
    "%matplotlib inline\n",
    "import datetime\n",
    "import requests\n",
    "import json\n",
    "import sqlite3 as lite\n",
    "import pandas as pd\n",
    "import seaborn as sns"
   ]
  },
  {
   "cell_type": "markdown",
   "metadata": {},
   "source": [
    "Create cities dictionary to include cities of interest and their locations."
   ]
  },
  {
   "cell_type": "code",
   "execution_count": 2,
   "metadata": {
    "scrolled": true
   },
   "outputs": [],
   "source": [
    "cities = {\"Atlanta\": '33.755960,-84.390304',\n",
    "          \"Austin\": '30.265327,-97.743788',\n",
    "          \"Boston\": '42.358056,-71.063611',\n",
    "          \"Denver\": '39.761850,-104.881105',\n",
    "          \"Los Angeles\": '34.050000,-118.250000',\n",
    "          \"Seattle\": '47.609722,-122.333056'\n",
    "          }"
   ]
  },
  {
   "cell_type": "markdown",
   "metadata": {},
   "source": [
    "Initialize a few key variables.  The start date is 30 days before now; \"num_days\" holds this 30-day value."
   ]
  },
  {
   "cell_type": "code",
   "execution_count": 3,
   "metadata": {
    "scrolled": true
   },
   "outputs": [],
   "source": [
    "num_days = 30\n",
    "start_date = datetime.datetime.now() - datetime.timedelta(days=num_days)\n",
    "APIKEY = \"2afe41b558da0181d1a9483c41f42df8\""
   ]
  },
  {
   "cell_type": "markdown",
   "metadata": {},
   "source": [
    "Create a connection object, \"con\", which is the connection to the SQLite database \"weather.db\". (If weather.db does not exist, SQLite3 will create it.)\n",
    "Once the connection object \"con\" has been created, use the .cursor method to create a cursor object, \"cur\", to manipulate tables in the \"weather.db\" database.\n",
    "If the \"temperature\" table exists in the \"weather.db\" database, drop it and create a new table to start fresh with an empty table."
   ]
  },
  {
   "cell_type": "code",
   "execution_count": 4,
   "metadata": {
    "scrolled": true
   },
   "outputs": [],
   "source": [
    "con = lite.connect('weather.db')\n",
    "with con:\n",
    "    cur = con.cursor()\n",
    "    cur.execute(\"DROP TABLE IF EXISTS temperature\")\n",
    "    cur.execute(\"CREATE TABLE temperature \\\n",
    "    (city text, tmax float, tmax_time integer)\")"
   ]
  },
  {
   "cell_type": "markdown",
   "metadata": {},
   "source": [
    "Next loop through all the cities in the \"cities\" dictionary, creating a properly formatted API request for that city for each day of data desired (30 days in this example).  Once the API request has been formatted, ping the API to get the data, select the data of interest (which is the maximum temperature for that day in this example) and store it in the \"weather.db\" database as well as a Pandas DataFrame, \"df\", to aid in future calculations.\n",
    "This process requires a loop within a loop.  The inner loop collects the data for a single city for each day of the period of interest, the past 30 days in this case.  The outer loop cycles through each of the cities. "
   ]
  },
  {
   "cell_type": "code",
   "execution_count": 5,
   "metadata": {},
   "outputs": [],
   "source": [
    "for city_var, latLong in cities.items():\n",
    "    \n",
    "    date = start_date     # initialize the date variable\n",
    "    \n",
    "    for i in range(0, num_days):  \n",
    "        date_str = (date.strftime('%Y') + '-' + date.strftime('%m') + '-' +\n",
    "                    date.strftime('%d') + 'T' + date.strftime('%H') + ':' +\n",
    "                    date.strftime('%M') + ':' + date.strftime('%S'))\n",
    "\n",
    "        url = ('https://api.forecast.io/forecast/' + APIKEY + '/' + latLong +\n",
    "               ',' + date_str)\n",
    "\n",
    "        r = requests.get(url)  # issue the request\n",
    "        response_dict = json.loads(r.text)\n",
    "\n",
    "        tmax_var = response_dict['daily']['data'][0]['temperatureMax']\n",
    "        tmax_time_var = response_dict['daily']['data'][0]['temperatureMaxTime']\n",
    "        \n",
    "        # convert time of max temperature from UNIX time to standard format\n",
    "        tmax_time_var_std = (datetime.datetime.fromtimestamp\n",
    "                             (int(tmax_time_var))\n",
    "                             .strftime('%Y-%m-%d %H:%M:%S'))\n",
    "\n",
    "        con = lite.connect('weather.db')\n",
    "        with con:\n",
    "            cur = con.cursor()\n",
    "            cur.execute(\"INSERT INTO temperature (city, tmax, tmax_time) \\\n",
    "            VALUES (?, ?, ?)\", (city_var, tmax_var, tmax_time_var_std))\n",
    "            cur.execute(\"SELECT * FROM temperature\")\n",
    "\n",
    "            # store all rows of data in the \"rows\" variable\n",
    "            rows = cur.fetchall()\n",
    "            \n",
    "            # get the column names from the cur.description attribute \n",
    "            # which are in the first position, the 0th spot.\n",
    "            cols = [desc[0] for desc in cur.description] \n",
    "            \n",
    "            df = pd.DataFrame(rows, columns=cols)\n",
    "\n",
    "        date = date + datetime.timedelta(days=1)"
   ]
  },
  {
   "cell_type": "markdown",
   "metadata": {},
   "source": [
    "Let's look at the first and last five rows of the data in the \"df\" DataFrame.  Each row is one day's worth of data; \"tmax\" is the maximum temperature for the day in degrees Fahrenheit; \"tmax_time\" is the date and time of the maximum temperature that day."
   ]
  },
  {
   "cell_type": "code",
   "execution_count": 6,
   "metadata": {
    "scrolled": true
   },
   "outputs": [
    {
     "data": {
      "text/html": [
       "<div>\n",
       "<style scoped>\n",
       "    .dataframe tbody tr th:only-of-type {\n",
       "        vertical-align: middle;\n",
       "    }\n",
       "\n",
       "    .dataframe tbody tr th {\n",
       "        vertical-align: top;\n",
       "    }\n",
       "\n",
       "    .dataframe thead th {\n",
       "        text-align: right;\n",
       "    }\n",
       "</style>\n",
       "<table border=\"1\" class=\"dataframe\">\n",
       "  <thead>\n",
       "    <tr style=\"text-align: right;\">\n",
       "      <th></th>\n",
       "      <th>city</th>\n",
       "      <th>tmax</th>\n",
       "      <th>tmax_time</th>\n",
       "    </tr>\n",
       "  </thead>\n",
       "  <tbody>\n",
       "    <tr>\n",
       "      <th>0</th>\n",
       "      <td>Atlanta</td>\n",
       "      <td>90.47</td>\n",
       "      <td>2018-08-05 13:00:00</td>\n",
       "    </tr>\n",
       "    <tr>\n",
       "      <th>1</th>\n",
       "      <td>Atlanta</td>\n",
       "      <td>92.41</td>\n",
       "      <td>2018-08-06 14:00:00</td>\n",
       "    </tr>\n",
       "    <tr>\n",
       "      <th>2</th>\n",
       "      <td>Atlanta</td>\n",
       "      <td>90.17</td>\n",
       "      <td>2018-08-07 12:00:00</td>\n",
       "    </tr>\n",
       "    <tr>\n",
       "      <th>3</th>\n",
       "      <td>Atlanta</td>\n",
       "      <td>90.85</td>\n",
       "      <td>2018-08-08 13:00:00</td>\n",
       "    </tr>\n",
       "    <tr>\n",
       "      <th>4</th>\n",
       "      <td>Atlanta</td>\n",
       "      <td>87.11</td>\n",
       "      <td>2018-08-09 10:00:00</td>\n",
       "    </tr>\n",
       "  </tbody>\n",
       "</table>\n",
       "</div>"
      ],
      "text/plain": [
       "      city   tmax            tmax_time\n",
       "0  Atlanta  90.47  2018-08-05 13:00:00\n",
       "1  Atlanta  92.41  2018-08-06 14:00:00\n",
       "2  Atlanta  90.17  2018-08-07 12:00:00\n",
       "3  Atlanta  90.85  2018-08-08 13:00:00\n",
       "4  Atlanta  87.11  2018-08-09 10:00:00"
      ]
     },
     "execution_count": 6,
     "metadata": {},
     "output_type": "execute_result"
    }
   ],
   "source": [
    "df.head()"
   ]
  },
  {
   "cell_type": "code",
   "execution_count": 7,
   "metadata": {
    "scrolled": true
   },
   "outputs": [
    {
     "data": {
      "text/html": [
       "<div>\n",
       "<style scoped>\n",
       "    .dataframe tbody tr th:only-of-type {\n",
       "        vertical-align: middle;\n",
       "    }\n",
       "\n",
       "    .dataframe tbody tr th {\n",
       "        vertical-align: top;\n",
       "    }\n",
       "\n",
       "    .dataframe thead th {\n",
       "        text-align: right;\n",
       "    }\n",
       "</style>\n",
       "<table border=\"1\" class=\"dataframe\">\n",
       "  <thead>\n",
       "    <tr style=\"text-align: right;\">\n",
       "      <th></th>\n",
       "      <th>city</th>\n",
       "      <th>tmax</th>\n",
       "      <th>tmax_time</th>\n",
       "    </tr>\n",
       "  </thead>\n",
       "  <tbody>\n",
       "    <tr>\n",
       "      <th>175</th>\n",
       "      <td>Seattle</td>\n",
       "      <td>72.16</td>\n",
       "      <td>2018-08-30 17:00:00</td>\n",
       "    </tr>\n",
       "    <tr>\n",
       "      <th>176</th>\n",
       "      <td>Seattle</td>\n",
       "      <td>68.18</td>\n",
       "      <td>2018-08-31 17:00:00</td>\n",
       "    </tr>\n",
       "    <tr>\n",
       "      <th>177</th>\n",
       "      <td>Seattle</td>\n",
       "      <td>70.26</td>\n",
       "      <td>2018-09-01 16:00:00</td>\n",
       "    </tr>\n",
       "    <tr>\n",
       "      <th>178</th>\n",
       "      <td>Seattle</td>\n",
       "      <td>73.89</td>\n",
       "      <td>2018-09-02 16:00:00</td>\n",
       "    </tr>\n",
       "    <tr>\n",
       "      <th>179</th>\n",
       "      <td>Seattle</td>\n",
       "      <td>72.18</td>\n",
       "      <td>2018-09-03 17:00:00</td>\n",
       "    </tr>\n",
       "  </tbody>\n",
       "</table>\n",
       "</div>"
      ],
      "text/plain": [
       "        city   tmax            tmax_time\n",
       "175  Seattle  72.16  2018-08-30 17:00:00\n",
       "176  Seattle  68.18  2018-08-31 17:00:00\n",
       "177  Seattle  70.26  2018-09-01 16:00:00\n",
       "178  Seattle  73.89  2018-09-02 16:00:00\n",
       "179  Seattle  72.18  2018-09-03 17:00:00"
      ]
     },
     "execution_count": 7,
     "metadata": {},
     "output_type": "execute_result"
    }
   ],
   "source": [
    "df.tail()"
   ]
  },
  {
   "cell_type": "markdown",
   "metadata": {},
   "source": [
    "Calculate summary statistics over the 30-day period and store in a new DataFrame, \"df_summary\"; separate the latitude and longitude into two columns instead of one, converting them from strings to floats; then write the DataFrame to a .csv file called \"summary.csv\"."
   ]
  },
  {
   "cell_type": "code",
   "execution_count": 10,
   "metadata": {
    "scrolled": true
   },
   "outputs": [],
   "source": [
    "df_summary = pd.DataFrame(columns=('city', 'long', 'lat', 'max_tmax',\n",
    "                                   'min_tmax', 'range_tmax', 'mean_tmax',\n",
    "                                   'sd_tmax'))\n",
    "\n",
    "df_summary['max_tmax'] = df.groupby('city')['tmax'].max()\n",
    "df_summary['min_tmax'] = df.groupby('city')['tmax'].min()\n",
    "df_summary['mean_tmax'] = df.groupby('city')['tmax'].mean()\n",
    "df_summary['sd_tmax'] = df.groupby('city')['tmax'].std()\n",
    "df_summary['range_tmax'] = df_summary['max_tmax'] - df_summary['min_tmax']\n",
    "df_summary['city'] = df_summary.index\n",
    "\n",
    "for k, v in cities.items():\n",
    "    location = tuple(float(x) for x in v.split(','))\n",
    "    #df_summary.set_value(k,'lat',location[0])\n",
    "    #df_summary.set_value(k,'long',location[1])\n",
    "    #df.at[index, col] = val\n",
    "    df_summary.at[k,'lat'] = location[0]\n",
    "    df_summary.at[k,'long'] = location[1]\n",
    "    \n",
    "df_summary.to_csv('summary.csv', index=False)"
   ]
  },
  {
   "cell_type": "markdown",
   "metadata": {},
   "source": [
    "Let's look at the \"df_summary\" DataFrame. Since there are only six cities, we can look at all of the rows, not just the first five."
   ]
  },
  {
   "cell_type": "code",
   "execution_count": 11,
   "metadata": {
    "scrolled": true
   },
   "outputs": [
    {
     "data": {
      "text/html": [
       "<div>\n",
       "<style scoped>\n",
       "    .dataframe tbody tr th:only-of-type {\n",
       "        vertical-align: middle;\n",
       "    }\n",
       "\n",
       "    .dataframe tbody tr th {\n",
       "        vertical-align: top;\n",
       "    }\n",
       "\n",
       "    .dataframe thead th {\n",
       "        text-align: right;\n",
       "    }\n",
       "</style>\n",
       "<table border=\"1\" class=\"dataframe\">\n",
       "  <thead>\n",
       "    <tr style=\"text-align: right;\">\n",
       "      <th></th>\n",
       "      <th>city</th>\n",
       "      <th>long</th>\n",
       "      <th>lat</th>\n",
       "      <th>max_tmax</th>\n",
       "      <th>min_tmax</th>\n",
       "      <th>range_tmax</th>\n",
       "      <th>mean_tmax</th>\n",
       "      <th>sd_tmax</th>\n",
       "    </tr>\n",
       "    <tr>\n",
       "      <th>city</th>\n",
       "      <th></th>\n",
       "      <th></th>\n",
       "      <th></th>\n",
       "      <th></th>\n",
       "      <th></th>\n",
       "      <th></th>\n",
       "      <th></th>\n",
       "      <th></th>\n",
       "    </tr>\n",
       "  </thead>\n",
       "  <tbody>\n",
       "    <tr>\n",
       "      <th>Atlanta</th>\n",
       "      <td>Atlanta</td>\n",
       "      <td>-84.3903</td>\n",
       "      <td>33.756</td>\n",
       "      <td>92.41</td>\n",
       "      <td>81.11</td>\n",
       "      <td>11.30</td>\n",
       "      <td>87.496333</td>\n",
       "      <td>2.716873</td>\n",
       "    </tr>\n",
       "    <tr>\n",
       "      <th>Austin</th>\n",
       "      <td>Austin</td>\n",
       "      <td>-97.7438</td>\n",
       "      <td>30.2653</td>\n",
       "      <td>100.88</td>\n",
       "      <td>86.45</td>\n",
       "      <td>14.43</td>\n",
       "      <td>97.098000</td>\n",
       "      <td>3.301244</td>\n",
       "    </tr>\n",
       "    <tr>\n",
       "      <th>Boston</th>\n",
       "      <td>Boston</td>\n",
       "      <td>-71.0636</td>\n",
       "      <td>42.3581</td>\n",
       "      <td>95.41</td>\n",
       "      <td>71.19</td>\n",
       "      <td>24.22</td>\n",
       "      <td>83.162000</td>\n",
       "      <td>7.620656</td>\n",
       "    </tr>\n",
       "    <tr>\n",
       "      <th>Denver</th>\n",
       "      <td>Denver</td>\n",
       "      <td>-104.881</td>\n",
       "      <td>39.7619</td>\n",
       "      <td>90.80</td>\n",
       "      <td>70.21</td>\n",
       "      <td>20.59</td>\n",
       "      <td>83.829000</td>\n",
       "      <td>5.782718</td>\n",
       "    </tr>\n",
       "    <tr>\n",
       "      <th>Los Angeles</th>\n",
       "      <td>Los Angeles</td>\n",
       "      <td>-118.25</td>\n",
       "      <td>34.05</td>\n",
       "      <td>97.24</td>\n",
       "      <td>79.81</td>\n",
       "      <td>17.43</td>\n",
       "      <td>86.669667</td>\n",
       "      <td>4.714069</td>\n",
       "    </tr>\n",
       "    <tr>\n",
       "      <th>Seattle</th>\n",
       "      <td>Seattle</td>\n",
       "      <td>-122.333</td>\n",
       "      <td>47.6097</td>\n",
       "      <td>91.30</td>\n",
       "      <td>63.00</td>\n",
       "      <td>28.30</td>\n",
       "      <td>76.955333</td>\n",
       "      <td>7.563708</td>\n",
       "    </tr>\n",
       "  </tbody>\n",
       "</table>\n",
       "</div>"
      ],
      "text/plain": [
       "                    city     long      lat  max_tmax  min_tmax  range_tmax  \\\n",
       "city                                                                         \n",
       "Atlanta          Atlanta -84.3903   33.756     92.41     81.11       11.30   \n",
       "Austin            Austin -97.7438  30.2653    100.88     86.45       14.43   \n",
       "Boston            Boston -71.0636  42.3581     95.41     71.19       24.22   \n",
       "Denver            Denver -104.881  39.7619     90.80     70.21       20.59   \n",
       "Los Angeles  Los Angeles  -118.25    34.05     97.24     79.81       17.43   \n",
       "Seattle          Seattle -122.333  47.6097     91.30     63.00       28.30   \n",
       "\n",
       "             mean_tmax   sd_tmax  \n",
       "city                              \n",
       "Atlanta      87.496333  2.716873  \n",
       "Austin       97.098000  3.301244  \n",
       "Boston       83.162000  7.620656  \n",
       "Denver       83.829000  5.782718  \n",
       "Los Angeles  86.669667  4.714069  \n",
       "Seattle      76.955333  7.563708  "
      ]
     },
     "execution_count": 11,
     "metadata": {},
     "output_type": "execute_result"
    }
   ],
   "source": [
    "df_summary"
   ]
  },
  {
   "cell_type": "markdown",
   "metadata": {},
   "source": [
    "Create a box plot for each city using the seaborn library."
   ]
  },
  {
   "cell_type": "code",
   "execution_count": 12,
   "metadata": {},
   "outputs": [
    {
     "data": {
      "image/png": "[encoded data removed]",
      "text/plain": [
       "<Figure size 432x288 with 1 Axes>"
      ]
     },
     "metadata": {},
     "output_type": "display_data"
    }
   ],
   "source": [
    "sns.set_style(\"whitegrid\")\n",
    "ax = sns.boxplot(x=\"city\", y=\"tmax\", data=df.sort_values(by='city'))\n",
    "ax = sns.swarmplot(x=\"city\", y=\"tmax\", data=df.sort_values(by='city'),\n",
    "                   color=\".25\")"
   ]
  },
  {
   "cell_type": "markdown",
   "metadata": {},
   "source": [
    "If you have not run the code above yourself, it should show data from the 30 days between August 5, 2018 and September 3, 2018 inclusive.  \n",
    "\n",
    "For this time period, the data show that the maximum daily temperature for Atlanta has the smallest fluctuation changing only 11.30 degrees over the 30-days compared to Seattle, which has the largest range of 28.30 degrees F.  \n",
    "\n",
    "Seattle also has the lowest mean maximum daily temperature of the six cities considered at 76.96 degrees F.\n",
    "\n",
    "Austin has the highest mean maximum temperature over the period, by 10 degrees F.  The box plot shows quite clearly that it is just plain hot there compared to the other cities.  This statement was true in June 2016 when I created the Python 2 example, and it is still true in August 2018."
   ]
  }
 ],
 "metadata": {
  "kernelspec": {
   "display_name": "Python 3",
   "language": "python",
   "name": "python3"
  },
  "language_info": {
   "codemirror_mode": {
    "name": "ipython",
    "version": 3
   },
   "file_extension": ".py",
   "mimetype": "text/x-python",
   "name": "python",
   "nbconvert_exporter": "python",
   "pygments_lexer": "ipython3",
   "version": "3.6.5"
  }
 },
 "nbformat": 4,
 "nbformat_minor": 1
}
